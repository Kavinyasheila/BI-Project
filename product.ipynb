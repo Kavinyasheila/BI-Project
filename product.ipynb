{
  "nbformat": 4,
  "nbformat_minor": 0,
  "metadata": {
    "colab": {
      "provenance": []
    },
    "kernelspec": {
      "name": "python3",
      "display_name": "Python 3"
    },
    "language_info": {
      "name": "python"
    }
  },
  "cells": [
    {
      "cell_type": "markdown",
      "source": [
        "Loading neccesary libraries needed in the model"
      ],
      "metadata": {
        "id": "dlUl-Ura1xpu"
      }
    },
    {
      "cell_type": "code",
      "execution_count": null,
      "metadata": {
        "id": "ljiPqL5OlWjE"
      },
      "outputs": [],
      "source": [
        "import pandas as pd\n",
        "import numpy as np\n"
      ]
    },
    {
      "cell_type": "code",
      "source": [
        "from google.colab import drive\n",
        "drive.mount('/content/drive')"
      ],
      "metadata": {
        "id": "lpZ-uo9clZSA",
        "colab": {
          "base_uri": "https://localhost:8080/"
        },
        "outputId": "cc06d0fe-ca39-467a-8bf2-355c8b74f1d7"
      },
      "execution_count": null,
      "outputs": [
        {
          "output_type": "stream",
          "name": "stdout",
          "text": [
            "Drive already mounted at /content/drive; to attempt to forcibly remount, call drive.mount(\"/content/drive\", force_remount=True).\n"
          ]
        }
      ]
    },
    {
      "cell_type": "markdown",
      "source": [
        "Converting my dataset into a csv document"
      ],
      "metadata": {
        "id": "v666KGyU4K9X"
      }
    },
    {
      "cell_type": "code",
      "source": [
        "# Replace 'product_data.csv' with your dataset's file name\n",
        "file_name = 'product_data.csv'\n",
        "data = pd.read_csv(\"/content/drive/MyDrive/IS/products_data.csv\")"
      ],
      "metadata": {
        "id": "8G4rjX7clqHN"
      },
      "execution_count": null,
      "outputs": []
    },
    {
      "cell_type": "markdown",
      "source": [
        "Understanding the structure of the dataset"
      ],
      "metadata": {
        "id": "tZPDfBTv4RBu"
      }
    },
    {
      "cell_type": "code",
      "source": [
        "data.info()"
      ],
      "metadata": {
        "id": "VmNI1L8Slxoz",
        "colab": {
          "base_uri": "https://localhost:8080/"
        },
        "outputId": "3e2588e2-451c-4b24-e6c0-7eee580b7274"
      },
      "execution_count": null,
      "outputs": [
        {
          "output_type": "stream",
          "name": "stdout",
          "text": [
            "<class 'pandas.core.frame.DataFrame'>\n",
            "RangeIndex: 17259 entries, 0 to 17258\n",
            "Data columns (total 9 columns):\n",
            " #   Column          Non-Null Count  Dtype \n",
            "---  ------          --------------  ----- \n",
            " 0   Name            17259 non-null  object\n",
            " 1   Current Price   17259 non-null  object\n",
            " 2   Previous Price  17259 non-null  object\n",
            " 3   Price Per Each  17259 non-null  object\n",
            " 4   Category        17259 non-null  object\n",
            " 5   Product ID      17259 non-null  object\n",
            " 6   Product URL     17259 non-null  object\n",
            " 7   Amount          17259 non-null  object\n",
            " 8   Units           17259 non-null  object\n",
            "dtypes: object(9)\n",
            "memory usage: 1.2+ MB\n"
          ]
        }
      ]
    },
    {
      "cell_type": "code",
      "source": [
        "data.describe"
      ],
      "metadata": {
        "id": "TVRc8ClXl4l2",
        "colab": {
          "base_uri": "https://localhost:8080/"
        },
        "outputId": "bb566982-254a-4f21-85d1-b1dffac646d6"
      },
      "execution_count": null,
      "outputs": [
        {
          "output_type": "execute_result",
          "data": {
            "text/plain": [
              "<bound method NDFrame.describe of                                        Name Current Price Previous Price  \\\n",
              "0                          English Cucumber          1.99           1.99   \n",
              "1                               Green Onion          1.29           1.29   \n",
              "2           Bi-Colour Corn, Corn on the Cob          0.99           0.99   \n",
              "3                     Romaine Heart, 3 Pack             6              6   \n",
              "4                           Red Peppers              2.38           2.38   \n",
              "...                                     ...           ...            ...   \n",
              "17254                    Beef Sausage Rolls          8.79           8.79   \n",
              "17255  Creamy Chicken and Vegetable Pot Pie             8              8   \n",
              "17256                     Quiche Florentine             8              8   \n",
              "17257                             Green Tea          2.29           2.29   \n",
              "17258             Hard-boiled Eggs, Omega-3          1.29           1.29   \n",
              "\n",
              "       Price Per Each          Category      Product ID  \\\n",
              "0           $1.99/1ea  Fresh Vegetables  20070132001_EA   \n",
              "1           $1.29/1ea  Fresh Vegetables  20107500001_EA   \n",
              "2           $0.99/1ea  Fresh Vegetables  20131170001_EA   \n",
              "3           $2.00/1ea  Fresh Vegetables  20067389001_EA   \n",
              "4           $9.90/1kg  Fresh Vegetables  20007535001_KG   \n",
              "...               ...               ...             ...   \n",
              "17254      $1.40/100g    Quiches & Pies     21116219_EA   \n",
              "17255  $1,600.00/100g    Quiches & Pies     21401776_EA   \n",
              "17256      $1.60/100g    Quiches & Pies     21401761_EA   \n",
              "17257     $0.48/100ml         Beverages     20923222_EA   \n",
              "17258      $1.47/100g     Snacks & Dips     21049546_EA   \n",
              "\n",
              "                                             Product URL Amount  Units  \n",
              "0      https://www.realcanadiansuperstore.ca/english-...      1     ea  \n",
              "1      https://www.realcanadiansuperstore.ca/green-on...      1  bunch  \n",
              "2      https://www.realcanadiansuperstore.ca/bi-colou...      1     ea  \n",
              "3      https://www.realcanadiansuperstore.ca/romaine-...      3   pack  \n",
              "4      https://www.realcanadiansuperstore.ca/red-pepp...      1     ea  \n",
              "...                                                  ...    ...    ...  \n",
              "17254  https://www.realcanadiansuperstore.ca/beef-sau...    630      g  \n",
              "17255  https://www.realcanadiansuperstore.ca/creamy-c...    500      g  \n",
              "17256  https://www.realcanadiansuperstore.ca/quiche-f...    500      g  \n",
              "17257  https://www.realcanadiansuperstore.ca/green-te...    473     ml  \n",
              "17258  https://www.realcanadiansuperstore.ca/hard-boi...     88      g  \n",
              "\n",
              "[17259 rows x 9 columns]>"
            ]
          },
          "metadata": {},
          "execution_count": 65
        }
      ]
    },
    {
      "cell_type": "markdown",
      "source": [
        "Data cleaning, removing unnecessary values"
      ],
      "metadata": {
        "id": "XORxWi-J4bhc"
      }
    },
    {
      "cell_type": "code",
      "source": [
        "# Remove commas and dollar signs, then convert to numeric\n",
        "data['Current Price'] = pd.to_numeric(data['Current Price'].str.replace(',', '').str.replace('$', ''))\n",
        "data['Previous Price'] = pd.to_numeric(data['Previous Price'].str.replace(',', '').str.replace('$', ''))\n",
        "data['Price Per Each'] = pd.to_numeric(data['Price Per Each'].str.extract('(\\d+\\.\\d+)')[0])\n",
        "\n",
        "# Convert prices to KSH\n",
        "exchange_rate = 100\n",
        "data['Current Price KSH'] = data['Current Price'] * exchange_rate\n",
        "data['Previous Price KSH'] = data['Previous Price'] * exchange_rate\n",
        "data['Price Per Each']  = data['Price Per Each'] * exchange_rate"
      ],
      "metadata": {
        "id": "LBHQPc8Pl-uh",
        "colab": {
          "base_uri": "https://localhost:8080/"
        },
        "outputId": "e74b5200-f056-4095-a439-f2dc57a68743"
      },
      "execution_count": null,
      "outputs": [
        {
          "output_type": "stream",
          "name": "stderr",
          "text": [
            "<ipython-input-66-af91ab616159>:2: FutureWarning: The default value of regex will change from True to False in a future version. In addition, single character regular expressions will *not* be treated as literal strings when regex=True.\n",
            "  data['Current Price'] = pd.to_numeric(data['Current Price'].str.replace(',', '').str.replace('$', ''))\n",
            "<ipython-input-66-af91ab616159>:3: FutureWarning: The default value of regex will change from True to False in a future version. In addition, single character regular expressions will *not* be treated as literal strings when regex=True.\n",
            "  data['Previous Price'] = pd.to_numeric(data['Previous Price'].str.replace(',', '').str.replace('$', ''))\n"
          ]
        }
      ]
    },
    {
      "cell_type": "code",
      "source": [
        "data.head()"
      ],
      "metadata": {
        "id": "t0__ggBMs7pL",
        "colab": {
          "base_uri": "https://localhost:8080/",
          "height": 399
        },
        "outputId": "30f15dd2-d146-4458-f706-4ab4e39dedfa"
      },
      "execution_count": null,
      "outputs": [
        {
          "output_type": "execute_result",
          "data": {
            "text/plain": [
              "                              Name  Current Price  Previous Price  \\\n",
              "0                 English Cucumber           1.99            1.99   \n",
              "1                      Green Onion           1.29            1.29   \n",
              "2  Bi-Colour Corn, Corn on the Cob           0.99            0.99   \n",
              "3            Romaine Heart, 3 Pack           6.00            6.00   \n",
              "4                  Red Peppers               2.38            2.38   \n",
              "\n",
              "   Price Per Each          Category      Product ID  \\\n",
              "0           199.0  Fresh Vegetables  20070132001_EA   \n",
              "1           129.0  Fresh Vegetables  20107500001_EA   \n",
              "2            99.0  Fresh Vegetables  20131170001_EA   \n",
              "3           200.0  Fresh Vegetables  20067389001_EA   \n",
              "4           990.0  Fresh Vegetables  20007535001_KG   \n",
              "\n",
              "                                         Product URL Amount  Units  \\\n",
              "0  https://www.realcanadiansuperstore.ca/english-...      1     ea   \n",
              "1  https://www.realcanadiansuperstore.ca/green-on...      1  bunch   \n",
              "2  https://www.realcanadiansuperstore.ca/bi-colou...      1     ea   \n",
              "3  https://www.realcanadiansuperstore.ca/romaine-...      3   pack   \n",
              "4  https://www.realcanadiansuperstore.ca/red-pepp...      1     ea   \n",
              "\n",
              "   Current Price KSH  Previous Price KSH  \n",
              "0              199.0               199.0  \n",
              "1              129.0               129.0  \n",
              "2               99.0                99.0  \n",
              "3              600.0               600.0  \n",
              "4              238.0               238.0  "
            ],
            "text/html": [
              "\n",
              "  <div id=\"df-631f16c1-4ba2-4183-b8da-1f1cedcd2f29\" class=\"colab-df-container\">\n",
              "    <div>\n",
              "<style scoped>\n",
              "    .dataframe tbody tr th:only-of-type {\n",
              "        vertical-align: middle;\n",
              "    }\n",
              "\n",
              "    .dataframe tbody tr th {\n",
              "        vertical-align: top;\n",
              "    }\n",
              "\n",
              "    .dataframe thead th {\n",
              "        text-align: right;\n",
              "    }\n",
              "</style>\n",
              "<table border=\"1\" class=\"dataframe\">\n",
              "  <thead>\n",
              "    <tr style=\"text-align: right;\">\n",
              "      <th></th>\n",
              "      <th>Name</th>\n",
              "      <th>Current Price</th>\n",
              "      <th>Previous Price</th>\n",
              "      <th>Price Per Each</th>\n",
              "      <th>Category</th>\n",
              "      <th>Product ID</th>\n",
              "      <th>Product URL</th>\n",
              "      <th>Amount</th>\n",
              "      <th>Units</th>\n",
              "      <th>Current Price KSH</th>\n",
              "      <th>Previous Price KSH</th>\n",
              "    </tr>\n",
              "  </thead>\n",
              "  <tbody>\n",
              "    <tr>\n",
              "      <th>0</th>\n",
              "      <td>English Cucumber</td>\n",
              "      <td>1.99</td>\n",
              "      <td>1.99</td>\n",
              "      <td>199.0</td>\n",
              "      <td>Fresh Vegetables</td>\n",
              "      <td>20070132001_EA</td>\n",
              "      <td>https://www.realcanadiansuperstore.ca/english-...</td>\n",
              "      <td>1</td>\n",
              "      <td>ea</td>\n",
              "      <td>199.0</td>\n",
              "      <td>199.0</td>\n",
              "    </tr>\n",
              "    <tr>\n",
              "      <th>1</th>\n",
              "      <td>Green Onion</td>\n",
              "      <td>1.29</td>\n",
              "      <td>1.29</td>\n",
              "      <td>129.0</td>\n",
              "      <td>Fresh Vegetables</td>\n",
              "      <td>20107500001_EA</td>\n",
              "      <td>https://www.realcanadiansuperstore.ca/green-on...</td>\n",
              "      <td>1</td>\n",
              "      <td>bunch</td>\n",
              "      <td>129.0</td>\n",
              "      <td>129.0</td>\n",
              "    </tr>\n",
              "    <tr>\n",
              "      <th>2</th>\n",
              "      <td>Bi-Colour Corn, Corn on the Cob</td>\n",
              "      <td>0.99</td>\n",
              "      <td>0.99</td>\n",
              "      <td>99.0</td>\n",
              "      <td>Fresh Vegetables</td>\n",
              "      <td>20131170001_EA</td>\n",
              "      <td>https://www.realcanadiansuperstore.ca/bi-colou...</td>\n",
              "      <td>1</td>\n",
              "      <td>ea</td>\n",
              "      <td>99.0</td>\n",
              "      <td>99.0</td>\n",
              "    </tr>\n",
              "    <tr>\n",
              "      <th>3</th>\n",
              "      <td>Romaine Heart, 3 Pack</td>\n",
              "      <td>6.00</td>\n",
              "      <td>6.00</td>\n",
              "      <td>200.0</td>\n",
              "      <td>Fresh Vegetables</td>\n",
              "      <td>20067389001_EA</td>\n",
              "      <td>https://www.realcanadiansuperstore.ca/romaine-...</td>\n",
              "      <td>3</td>\n",
              "      <td>pack</td>\n",
              "      <td>600.0</td>\n",
              "      <td>600.0</td>\n",
              "    </tr>\n",
              "    <tr>\n",
              "      <th>4</th>\n",
              "      <td>Red Peppers</td>\n",
              "      <td>2.38</td>\n",
              "      <td>2.38</td>\n",
              "      <td>990.0</td>\n",
              "      <td>Fresh Vegetables</td>\n",
              "      <td>20007535001_KG</td>\n",
              "      <td>https://www.realcanadiansuperstore.ca/red-pepp...</td>\n",
              "      <td>1</td>\n",
              "      <td>ea</td>\n",
              "      <td>238.0</td>\n",
              "      <td>238.0</td>\n",
              "    </tr>\n",
              "  </tbody>\n",
              "</table>\n",
              "</div>\n",
              "    <div class=\"colab-df-buttons\">\n",
              "\n",
              "  <div class=\"colab-df-container\">\n",
              "    <button class=\"colab-df-convert\" onclick=\"convertToInteractive('df-631f16c1-4ba2-4183-b8da-1f1cedcd2f29')\"\n",
              "            title=\"Convert this dataframe to an interactive table.\"\n",
              "            style=\"display:none;\">\n",
              "\n",
              "  <svg xmlns=\"http://www.w3.org/2000/svg\" height=\"24px\" viewBox=\"0 -960 960 960\">\n",
              "    <path d=\"M120-120v-720h720v720H120Zm60-500h600v-160H180v160Zm220 220h160v-160H400v160Zm0 220h160v-160H400v160ZM180-400h160v-160H180v160Zm440 0h160v-160H620v160ZM180-180h160v-160H180v160Zm440 0h160v-160H620v160Z\"/>\n",
              "  </svg>\n",
              "    </button>\n",
              "\n",
              "  <style>\n",
              "    .colab-df-container {\n",
              "      display:flex;\n",
              "      gap: 12px;\n",
              "    }\n",
              "\n",
              "    .colab-df-convert {\n",
              "      background-color: #E8F0FE;\n",
              "      border: none;\n",
              "      border-radius: 50%;\n",
              "      cursor: pointer;\n",
              "      display: none;\n",
              "      fill: #1967D2;\n",
              "      height: 32px;\n",
              "      padding: 0 0 0 0;\n",
              "      width: 32px;\n",
              "    }\n",
              "\n",
              "    .colab-df-convert:hover {\n",
              "      background-color: #E2EBFA;\n",
              "      box-shadow: 0px 1px 2px rgba(60, 64, 67, 0.3), 0px 1px 3px 1px rgba(60, 64, 67, 0.15);\n",
              "      fill: #174EA6;\n",
              "    }\n",
              "\n",
              "    .colab-df-buttons div {\n",
              "      margin-bottom: 4px;\n",
              "    }\n",
              "\n",
              "    [theme=dark] .colab-df-convert {\n",
              "      background-color: #3B4455;\n",
              "      fill: #D2E3FC;\n",
              "    }\n",
              "\n",
              "    [theme=dark] .colab-df-convert:hover {\n",
              "      background-color: #434B5C;\n",
              "      box-shadow: 0px 1px 3px 1px rgba(0, 0, 0, 0.15);\n",
              "      filter: drop-shadow(0px 1px 2px rgba(0, 0, 0, 0.3));\n",
              "      fill: #FFFFFF;\n",
              "    }\n",
              "  </style>\n",
              "\n",
              "    <script>\n",
              "      const buttonEl =\n",
              "        document.querySelector('#df-631f16c1-4ba2-4183-b8da-1f1cedcd2f29 button.colab-df-convert');\n",
              "      buttonEl.style.display =\n",
              "        google.colab.kernel.accessAllowed ? 'block' : 'none';\n",
              "\n",
              "      async function convertToInteractive(key) {\n",
              "        const element = document.querySelector('#df-631f16c1-4ba2-4183-b8da-1f1cedcd2f29');\n",
              "        const dataTable =\n",
              "          await google.colab.kernel.invokeFunction('convertToInteractive',\n",
              "                                                    [key], {});\n",
              "        if (!dataTable) return;\n",
              "\n",
              "        const docLinkHtml = 'Like what you see? Visit the ' +\n",
              "          '<a target=\"_blank\" href=https://colab.research.google.com/notebooks/data_table.ipynb>data table notebook</a>'\n",
              "          + ' to learn more about interactive tables.';\n",
              "        element.innerHTML = '';\n",
              "        dataTable['output_type'] = 'display_data';\n",
              "        await google.colab.output.renderOutput(dataTable, element);\n",
              "        const docLink = document.createElement('div');\n",
              "        docLink.innerHTML = docLinkHtml;\n",
              "        element.appendChild(docLink);\n",
              "      }\n",
              "    </script>\n",
              "  </div>\n",
              "\n",
              "\n",
              "<div id=\"df-57debffa-5a07-4892-9d3d-c6a3e05eb169\">\n",
              "  <button class=\"colab-df-quickchart\" onclick=\"quickchart('df-57debffa-5a07-4892-9d3d-c6a3e05eb169')\"\n",
              "            title=\"Suggest charts\"\n",
              "            style=\"display:none;\">\n",
              "\n",
              "<svg xmlns=\"http://www.w3.org/2000/svg\" height=\"24px\"viewBox=\"0 0 24 24\"\n",
              "     width=\"24px\">\n",
              "    <g>\n",
              "        <path d=\"M19 3H5c-1.1 0-2 .9-2 2v14c0 1.1.9 2 2 2h14c1.1 0 2-.9 2-2V5c0-1.1-.9-2-2-2zM9 17H7v-7h2v7zm4 0h-2V7h2v10zm4 0h-2v-4h2v4z\"/>\n",
              "    </g>\n",
              "</svg>\n",
              "  </button>\n",
              "\n",
              "<style>\n",
              "  .colab-df-quickchart {\n",
              "      --bg-color: #E8F0FE;\n",
              "      --fill-color: #1967D2;\n",
              "      --hover-bg-color: #E2EBFA;\n",
              "      --hover-fill-color: #174EA6;\n",
              "      --disabled-fill-color: #AAA;\n",
              "      --disabled-bg-color: #DDD;\n",
              "  }\n",
              "\n",
              "  [theme=dark] .colab-df-quickchart {\n",
              "      --bg-color: #3B4455;\n",
              "      --fill-color: #D2E3FC;\n",
              "      --hover-bg-color: #434B5C;\n",
              "      --hover-fill-color: #FFFFFF;\n",
              "      --disabled-bg-color: #3B4455;\n",
              "      --disabled-fill-color: #666;\n",
              "  }\n",
              "\n",
              "  .colab-df-quickchart {\n",
              "    background-color: var(--bg-color);\n",
              "    border: none;\n",
              "    border-radius: 50%;\n",
              "    cursor: pointer;\n",
              "    display: none;\n",
              "    fill: var(--fill-color);\n",
              "    height: 32px;\n",
              "    padding: 0;\n",
              "    width: 32px;\n",
              "  }\n",
              "\n",
              "  .colab-df-quickchart:hover {\n",
              "    background-color: var(--hover-bg-color);\n",
              "    box-shadow: 0 1px 2px rgba(60, 64, 67, 0.3), 0 1px 3px 1px rgba(60, 64, 67, 0.15);\n",
              "    fill: var(--button-hover-fill-color);\n",
              "  }\n",
              "\n",
              "  .colab-df-quickchart-complete:disabled,\n",
              "  .colab-df-quickchart-complete:disabled:hover {\n",
              "    background-color: var(--disabled-bg-color);\n",
              "    fill: var(--disabled-fill-color);\n",
              "    box-shadow: none;\n",
              "  }\n",
              "\n",
              "  .colab-df-spinner {\n",
              "    border: 2px solid var(--fill-color);\n",
              "    border-color: transparent;\n",
              "    border-bottom-color: var(--fill-color);\n",
              "    animation:\n",
              "      spin 1s steps(1) infinite;\n",
              "  }\n",
              "\n",
              "  @keyframes spin {\n",
              "    0% {\n",
              "      border-color: transparent;\n",
              "      border-bottom-color: var(--fill-color);\n",
              "      border-left-color: var(--fill-color);\n",
              "    }\n",
              "    20% {\n",
              "      border-color: transparent;\n",
              "      border-left-color: var(--fill-color);\n",
              "      border-top-color: var(--fill-color);\n",
              "    }\n",
              "    30% {\n",
              "      border-color: transparent;\n",
              "      border-left-color: var(--fill-color);\n",
              "      border-top-color: var(--fill-color);\n",
              "      border-right-color: var(--fill-color);\n",
              "    }\n",
              "    40% {\n",
              "      border-color: transparent;\n",
              "      border-right-color: var(--fill-color);\n",
              "      border-top-color: var(--fill-color);\n",
              "    }\n",
              "    60% {\n",
              "      border-color: transparent;\n",
              "      border-right-color: var(--fill-color);\n",
              "    }\n",
              "    80% {\n",
              "      border-color: transparent;\n",
              "      border-right-color: var(--fill-color);\n",
              "      border-bottom-color: var(--fill-color);\n",
              "    }\n",
              "    90% {\n",
              "      border-color: transparent;\n",
              "      border-bottom-color: var(--fill-color);\n",
              "    }\n",
              "  }\n",
              "</style>\n",
              "\n",
              "  <script>\n",
              "    async function quickchart(key) {\n",
              "      const quickchartButtonEl =\n",
              "        document.querySelector('#' + key + ' button');\n",
              "      quickchartButtonEl.disabled = true;  // To prevent multiple clicks.\n",
              "      quickchartButtonEl.classList.add('colab-df-spinner');\n",
              "      try {\n",
              "        const charts = await google.colab.kernel.invokeFunction(\n",
              "            'suggestCharts', [key], {});\n",
              "      } catch (error) {\n",
              "        console.error('Error during call to suggestCharts:', error);\n",
              "      }\n",
              "      quickchartButtonEl.classList.remove('colab-df-spinner');\n",
              "      quickchartButtonEl.classList.add('colab-df-quickchart-complete');\n",
              "    }\n",
              "    (() => {\n",
              "      let quickchartButtonEl =\n",
              "        document.querySelector('#df-57debffa-5a07-4892-9d3d-c6a3e05eb169 button');\n",
              "      quickchartButtonEl.style.display =\n",
              "        google.colab.kernel.accessAllowed ? 'block' : 'none';\n",
              "    })();\n",
              "  </script>\n",
              "</div>\n",
              "    </div>\n",
              "  </div>\n"
            ]
          },
          "metadata": {},
          "execution_count": 67
        }
      ]
    },
    {
      "source": [
        "# from matplotlib import pyplot as plt\n",
        "# _df_8.plot(kind='scatter', x='Current Price', y='Previous Price', s=32, alpha=.8)\n",
        "# plt.gca().spines[['top', 'right',]].set_visible(False)"
      ],
      "cell_type": "code",
      "metadata": {
        "id": "1RFOcNoE-xoo"
      },
      "execution_count": null,
      "outputs": []
    },
    {
      "source": [
        "# from matplotlib import pyplot as plt\n",
        "# import seaborn as sns\n",
        "# import pandas as pd\n",
        "# plt.subplots(figsize=(8, 8))\n",
        "# df_2dhist = pd.DataFrame({\n",
        "#     x_label: grp['Units'].value_counts()\n",
        "#     for x_label, grp in _df_43.groupby('Amount')\n",
        "# })\n",
        "# sns.heatmap(df_2dhist, cmap='viridis')\n",
        "# plt.xlabel('Amount')\n",
        "# _ = plt.ylabel('Units')"
      ],
      "cell_type": "code",
      "metadata": {
        "id": "DwveTEhL0-Hf"
      },
      "execution_count": null,
      "outputs": []
    },
    {
      "source": [
        "# from matplotlib import pyplot as plt\n",
        "# _df_35.plot(kind='scatter', x='Current Price KSH', y='Previous Price KSH', s=32, alpha=.8)\n",
        "# plt.gca().spines[['top', 'right',]].set_visible(False)"
      ],
      "cell_type": "code",
      "metadata": {
        "id": "MpHv74W_0iEB"
      },
      "execution_count": null,
      "outputs": []
    },
    {
      "source": [
        "# from matplotlib import pyplot as plt\n",
        "# _df_34.plot(kind='scatter', x='Price Per Each', y='Current Price KSH', s=32, alpha=.8)\n",
        "# plt.gca().spines[['top', 'right',]].set_visible(False)"
      ],
      "cell_type": "code",
      "metadata": {
        "id": "HP1godfs0hPu"
      },
      "execution_count": null,
      "outputs": []
    },
    {
      "cell_type": "code",
      "source": [
        "data.head()"
      ],
      "metadata": {
        "id": "aWvse2MO1H6_",
        "colab": {
          "base_uri": "https://localhost:8080/",
          "height": 399
        },
        "outputId": "e10aa8e2-9680-4416-99b5-086c02f11eef"
      },
      "execution_count": null,
      "outputs": [
        {
          "output_type": "execute_result",
          "data": {
            "text/plain": [
              "                              Name  Current Price  Previous Price  \\\n",
              "0                 English Cucumber           1.99            1.99   \n",
              "1                      Green Onion           1.29            1.29   \n",
              "2  Bi-Colour Corn, Corn on the Cob           0.99            0.99   \n",
              "3            Romaine Heart, 3 Pack           6.00            6.00   \n",
              "4                  Red Peppers               2.38            2.38   \n",
              "\n",
              "   Price Per Each          Category      Product ID  \\\n",
              "0           199.0  Fresh Vegetables  20070132001_EA   \n",
              "1           129.0  Fresh Vegetables  20107500001_EA   \n",
              "2            99.0  Fresh Vegetables  20131170001_EA   \n",
              "3           200.0  Fresh Vegetables  20067389001_EA   \n",
              "4           990.0  Fresh Vegetables  20007535001_KG   \n",
              "\n",
              "                                         Product URL Amount  Units  \\\n",
              "0  https://www.realcanadiansuperstore.ca/english-...      1     ea   \n",
              "1  https://www.realcanadiansuperstore.ca/green-on...      1  bunch   \n",
              "2  https://www.realcanadiansuperstore.ca/bi-colou...      1     ea   \n",
              "3  https://www.realcanadiansuperstore.ca/romaine-...      3   pack   \n",
              "4  https://www.realcanadiansuperstore.ca/red-pepp...      1     ea   \n",
              "\n",
              "   Current Price KSH  Previous Price KSH  \n",
              "0              199.0               199.0  \n",
              "1              129.0               129.0  \n",
              "2               99.0                99.0  \n",
              "3              600.0               600.0  \n",
              "4              238.0               238.0  "
            ],
            "text/html": [
              "\n",
              "  <div id=\"df-b2a2d7b2-4f81-4520-a2f0-7028c2732f8a\" class=\"colab-df-container\">\n",
              "    <div>\n",
              "<style scoped>\n",
              "    .dataframe tbody tr th:only-of-type {\n",
              "        vertical-align: middle;\n",
              "    }\n",
              "\n",
              "    .dataframe tbody tr th {\n",
              "        vertical-align: top;\n",
              "    }\n",
              "\n",
              "    .dataframe thead th {\n",
              "        text-align: right;\n",
              "    }\n",
              "</style>\n",
              "<table border=\"1\" class=\"dataframe\">\n",
              "  <thead>\n",
              "    <tr style=\"text-align: right;\">\n",
              "      <th></th>\n",
              "      <th>Name</th>\n",
              "      <th>Current Price</th>\n",
              "      <th>Previous Price</th>\n",
              "      <th>Price Per Each</th>\n",
              "      <th>Category</th>\n",
              "      <th>Product ID</th>\n",
              "      <th>Product URL</th>\n",
              "      <th>Amount</th>\n",
              "      <th>Units</th>\n",
              "      <th>Current Price KSH</th>\n",
              "      <th>Previous Price KSH</th>\n",
              "    </tr>\n",
              "  </thead>\n",
              "  <tbody>\n",
              "    <tr>\n",
              "      <th>0</th>\n",
              "      <td>English Cucumber</td>\n",
              "      <td>1.99</td>\n",
              "      <td>1.99</td>\n",
              "      <td>199.0</td>\n",
              "      <td>Fresh Vegetables</td>\n",
              "      <td>20070132001_EA</td>\n",
              "      <td>https://www.realcanadiansuperstore.ca/english-...</td>\n",
              "      <td>1</td>\n",
              "      <td>ea</td>\n",
              "      <td>199.0</td>\n",
              "      <td>199.0</td>\n",
              "    </tr>\n",
              "    <tr>\n",
              "      <th>1</th>\n",
              "      <td>Green Onion</td>\n",
              "      <td>1.29</td>\n",
              "      <td>1.29</td>\n",
              "      <td>129.0</td>\n",
              "      <td>Fresh Vegetables</td>\n",
              "      <td>20107500001_EA</td>\n",
              "      <td>https://www.realcanadiansuperstore.ca/green-on...</td>\n",
              "      <td>1</td>\n",
              "      <td>bunch</td>\n",
              "      <td>129.0</td>\n",
              "      <td>129.0</td>\n",
              "    </tr>\n",
              "    <tr>\n",
              "      <th>2</th>\n",
              "      <td>Bi-Colour Corn, Corn on the Cob</td>\n",
              "      <td>0.99</td>\n",
              "      <td>0.99</td>\n",
              "      <td>99.0</td>\n",
              "      <td>Fresh Vegetables</td>\n",
              "      <td>20131170001_EA</td>\n",
              "      <td>https://www.realcanadiansuperstore.ca/bi-colou...</td>\n",
              "      <td>1</td>\n",
              "      <td>ea</td>\n",
              "      <td>99.0</td>\n",
              "      <td>99.0</td>\n",
              "    </tr>\n",
              "    <tr>\n",
              "      <th>3</th>\n",
              "      <td>Romaine Heart, 3 Pack</td>\n",
              "      <td>6.00</td>\n",
              "      <td>6.00</td>\n",
              "      <td>200.0</td>\n",
              "      <td>Fresh Vegetables</td>\n",
              "      <td>20067389001_EA</td>\n",
              "      <td>https://www.realcanadiansuperstore.ca/romaine-...</td>\n",
              "      <td>3</td>\n",
              "      <td>pack</td>\n",
              "      <td>600.0</td>\n",
              "      <td>600.0</td>\n",
              "    </tr>\n",
              "    <tr>\n",
              "      <th>4</th>\n",
              "      <td>Red Peppers</td>\n",
              "      <td>2.38</td>\n",
              "      <td>2.38</td>\n",
              "      <td>990.0</td>\n",
              "      <td>Fresh Vegetables</td>\n",
              "      <td>20007535001_KG</td>\n",
              "      <td>https://www.realcanadiansuperstore.ca/red-pepp...</td>\n",
              "      <td>1</td>\n",
              "      <td>ea</td>\n",
              "      <td>238.0</td>\n",
              "      <td>238.0</td>\n",
              "    </tr>\n",
              "  </tbody>\n",
              "</table>\n",
              "</div>\n",
              "    <div class=\"colab-df-buttons\">\n",
              "\n",
              "  <div class=\"colab-df-container\">\n",
              "    <button class=\"colab-df-convert\" onclick=\"convertToInteractive('df-b2a2d7b2-4f81-4520-a2f0-7028c2732f8a')\"\n",
              "            title=\"Convert this dataframe to an interactive table.\"\n",
              "            style=\"display:none;\">\n",
              "\n",
              "  <svg xmlns=\"http://www.w3.org/2000/svg\" height=\"24px\" viewBox=\"0 -960 960 960\">\n",
              "    <path d=\"M120-120v-720h720v720H120Zm60-500h600v-160H180v160Zm220 220h160v-160H400v160Zm0 220h160v-160H400v160ZM180-400h160v-160H180v160Zm440 0h160v-160H620v160ZM180-180h160v-160H180v160Zm440 0h160v-160H620v160Z\"/>\n",
              "  </svg>\n",
              "    </button>\n",
              "\n",
              "  <style>\n",
              "    .colab-df-container {\n",
              "      display:flex;\n",
              "      gap: 12px;\n",
              "    }\n",
              "\n",
              "    .colab-df-convert {\n",
              "      background-color: #E8F0FE;\n",
              "      border: none;\n",
              "      border-radius: 50%;\n",
              "      cursor: pointer;\n",
              "      display: none;\n",
              "      fill: #1967D2;\n",
              "      height: 32px;\n",
              "      padding: 0 0 0 0;\n",
              "      width: 32px;\n",
              "    }\n",
              "\n",
              "    .colab-df-convert:hover {\n",
              "      background-color: #E2EBFA;\n",
              "      box-shadow: 0px 1px 2px rgba(60, 64, 67, 0.3), 0px 1px 3px 1px rgba(60, 64, 67, 0.15);\n",
              "      fill: #174EA6;\n",
              "    }\n",
              "\n",
              "    .colab-df-buttons div {\n",
              "      margin-bottom: 4px;\n",
              "    }\n",
              "\n",
              "    [theme=dark] .colab-df-convert {\n",
              "      background-color: #3B4455;\n",
              "      fill: #D2E3FC;\n",
              "    }\n",
              "\n",
              "    [theme=dark] .colab-df-convert:hover {\n",
              "      background-color: #434B5C;\n",
              "      box-shadow: 0px 1px 3px 1px rgba(0, 0, 0, 0.15);\n",
              "      filter: drop-shadow(0px 1px 2px rgba(0, 0, 0, 0.3));\n",
              "      fill: #FFFFFF;\n",
              "    }\n",
              "  </style>\n",
              "\n",
              "    <script>\n",
              "      const buttonEl =\n",
              "        document.querySelector('#df-b2a2d7b2-4f81-4520-a2f0-7028c2732f8a button.colab-df-convert');\n",
              "      buttonEl.style.display =\n",
              "        google.colab.kernel.accessAllowed ? 'block' : 'none';\n",
              "\n",
              "      async function convertToInteractive(key) {\n",
              "        const element = document.querySelector('#df-b2a2d7b2-4f81-4520-a2f0-7028c2732f8a');\n",
              "        const dataTable =\n",
              "          await google.colab.kernel.invokeFunction('convertToInteractive',\n",
              "                                                    [key], {});\n",
              "        if (!dataTable) return;\n",
              "\n",
              "        const docLinkHtml = 'Like what you see? Visit the ' +\n",
              "          '<a target=\"_blank\" href=https://colab.research.google.com/notebooks/data_table.ipynb>data table notebook</a>'\n",
              "          + ' to learn more about interactive tables.';\n",
              "        element.innerHTML = '';\n",
              "        dataTable['output_type'] = 'display_data';\n",
              "        await google.colab.output.renderOutput(dataTable, element);\n",
              "        const docLink = document.createElement('div');\n",
              "        docLink.innerHTML = docLinkHtml;\n",
              "        element.appendChild(docLink);\n",
              "      }\n",
              "    </script>\n",
              "  </div>\n",
              "\n",
              "\n",
              "<div id=\"df-962631b3-8543-4ebd-9cd1-e75cd20ae749\">\n",
              "  <button class=\"colab-df-quickchart\" onclick=\"quickchart('df-962631b3-8543-4ebd-9cd1-e75cd20ae749')\"\n",
              "            title=\"Suggest charts\"\n",
              "            style=\"display:none;\">\n",
              "\n",
              "<svg xmlns=\"http://www.w3.org/2000/svg\" height=\"24px\"viewBox=\"0 0 24 24\"\n",
              "     width=\"24px\">\n",
              "    <g>\n",
              "        <path d=\"M19 3H5c-1.1 0-2 .9-2 2v14c0 1.1.9 2 2 2h14c1.1 0 2-.9 2-2V5c0-1.1-.9-2-2-2zM9 17H7v-7h2v7zm4 0h-2V7h2v10zm4 0h-2v-4h2v4z\"/>\n",
              "    </g>\n",
              "</svg>\n",
              "  </button>\n",
              "\n",
              "<style>\n",
              "  .colab-df-quickchart {\n",
              "      --bg-color: #E8F0FE;\n",
              "      --fill-color: #1967D2;\n",
              "      --hover-bg-color: #E2EBFA;\n",
              "      --hover-fill-color: #174EA6;\n",
              "      --disabled-fill-color: #AAA;\n",
              "      --disabled-bg-color: #DDD;\n",
              "  }\n",
              "\n",
              "  [theme=dark] .colab-df-quickchart {\n",
              "      --bg-color: #3B4455;\n",
              "      --fill-color: #D2E3FC;\n",
              "      --hover-bg-color: #434B5C;\n",
              "      --hover-fill-color: #FFFFFF;\n",
              "      --disabled-bg-color: #3B4455;\n",
              "      --disabled-fill-color: #666;\n",
              "  }\n",
              "\n",
              "  .colab-df-quickchart {\n",
              "    background-color: var(--bg-color);\n",
              "    border: none;\n",
              "    border-radius: 50%;\n",
              "    cursor: pointer;\n",
              "    display: none;\n",
              "    fill: var(--fill-color);\n",
              "    height: 32px;\n",
              "    padding: 0;\n",
              "    width: 32px;\n",
              "  }\n",
              "\n",
              "  .colab-df-quickchart:hover {\n",
              "    background-color: var(--hover-bg-color);\n",
              "    box-shadow: 0 1px 2px rgba(60, 64, 67, 0.3), 0 1px 3px 1px rgba(60, 64, 67, 0.15);\n",
              "    fill: var(--button-hover-fill-color);\n",
              "  }\n",
              "\n",
              "  .colab-df-quickchart-complete:disabled,\n",
              "  .colab-df-quickchart-complete:disabled:hover {\n",
              "    background-color: var(--disabled-bg-color);\n",
              "    fill: var(--disabled-fill-color);\n",
              "    box-shadow: none;\n",
              "  }\n",
              "\n",
              "  .colab-df-spinner {\n",
              "    border: 2px solid var(--fill-color);\n",
              "    border-color: transparent;\n",
              "    border-bottom-color: var(--fill-color);\n",
              "    animation:\n",
              "      spin 1s steps(1) infinite;\n",
              "  }\n",
              "\n",
              "  @keyframes spin {\n",
              "    0% {\n",
              "      border-color: transparent;\n",
              "      border-bottom-color: var(--fill-color);\n",
              "      border-left-color: var(--fill-color);\n",
              "    }\n",
              "    20% {\n",
              "      border-color: transparent;\n",
              "      border-left-color: var(--fill-color);\n",
              "      border-top-color: var(--fill-color);\n",
              "    }\n",
              "    30% {\n",
              "      border-color: transparent;\n",
              "      border-left-color: var(--fill-color);\n",
              "      border-top-color: var(--fill-color);\n",
              "      border-right-color: var(--fill-color);\n",
              "    }\n",
              "    40% {\n",
              "      border-color: transparent;\n",
              "      border-right-color: var(--fill-color);\n",
              "      border-top-color: var(--fill-color);\n",
              "    }\n",
              "    60% {\n",
              "      border-color: transparent;\n",
              "      border-right-color: var(--fill-color);\n",
              "    }\n",
              "    80% {\n",
              "      border-color: transparent;\n",
              "      border-right-color: var(--fill-color);\n",
              "      border-bottom-color: var(--fill-color);\n",
              "    }\n",
              "    90% {\n",
              "      border-color: transparent;\n",
              "      border-bottom-color: var(--fill-color);\n",
              "    }\n",
              "  }\n",
              "</style>\n",
              "\n",
              "  <script>\n",
              "    async function quickchart(key) {\n",
              "      const quickchartButtonEl =\n",
              "        document.querySelector('#' + key + ' button');\n",
              "      quickchartButtonEl.disabled = true;  // To prevent multiple clicks.\n",
              "      quickchartButtonEl.classList.add('colab-df-spinner');\n",
              "      try {\n",
              "        const charts = await google.colab.kernel.invokeFunction(\n",
              "            'suggestCharts', [key], {});\n",
              "      } catch (error) {\n",
              "        console.error('Error during call to suggestCharts:', error);\n",
              "      }\n",
              "      quickchartButtonEl.classList.remove('colab-df-spinner');\n",
              "      quickchartButtonEl.classList.add('colab-df-quickchart-complete');\n",
              "    }\n",
              "    (() => {\n",
              "      let quickchartButtonEl =\n",
              "        document.querySelector('#df-962631b3-8543-4ebd-9cd1-e75cd20ae749 button');\n",
              "      quickchartButtonEl.style.display =\n",
              "        google.colab.kernel.accessAllowed ? 'block' : 'none';\n",
              "    })();\n",
              "  </script>\n",
              "</div>\n",
              "    </div>\n",
              "  </div>\n"
            ]
          },
          "metadata": {},
          "execution_count": 72
        }
      ]
    },
    {
      "cell_type": "markdown",
      "source": [
        "Droping colums that were interfearing with model training"
      ],
      "metadata": {
        "id": "jlpoaVGn4qhK"
      }
    },
    {
      "cell_type": "code",
      "source": [
        "columns_to_drop = ['Current Price', 'Previous Price','Category','Product ID', 'Product URL']\n",
        "\n",
        "\n",
        "# Drop the specified columns\n",
        "data = data.drop(columns=columns_to_drop)\n",
        "\n",
        "\n",
        "# Print the first few rows of the modified DataFrame\n",
        "print(data.head())"
      ],
      "metadata": {
        "id": "xiZvOR9p1Kud",
        "colab": {
          "base_uri": "https://localhost:8080/"
        },
        "outputId": "08586305-d472-43de-d387-bf61b91e5af8"
      },
      "execution_count": null,
      "outputs": [
        {
          "output_type": "stream",
          "name": "stdout",
          "text": [
            "                              Name  Price Per Each Amount  Units  \\\n",
            "0                 English Cucumber           199.0      1     ea   \n",
            "1                      Green Onion           129.0      1  bunch   \n",
            "2  Bi-Colour Corn, Corn on the Cob            99.0      1     ea   \n",
            "3            Romaine Heart, 3 Pack           200.0      3   pack   \n",
            "4                  Red Peppers               990.0      1     ea   \n",
            "\n",
            "   Current Price KSH  Previous Price KSH  \n",
            "0              199.0               199.0  \n",
            "1              129.0               129.0  \n",
            "2               99.0                99.0  \n",
            "3              600.0               600.0  \n",
            "4              238.0               238.0  \n"
          ]
        }
      ]
    },
    {
      "cell_type": "code",
      "source": [
        "# Remove words after a comma in the 'Name' column\n",
        "data['Name'] = data['Name'].str.replace(r',.*', '', regex=True)\n",
        "\n",
        "# Print the first few rows of the modified DataFrame\n",
        "print(data.head())"
      ],
      "metadata": {
        "id": "Q-cp60lc1pFv",
        "colab": {
          "base_uri": "https://localhost:8080/"
        },
        "outputId": "8ce18c88-4487-4c5e-b3db-ea90adacc659"
      },
      "execution_count": null,
      "outputs": [
        {
          "output_type": "stream",
          "name": "stdout",
          "text": [
            "               Name  Price Per Each Amount  Units  Current Price KSH  \\\n",
            "0  English Cucumber           199.0      1     ea              199.0   \n",
            "1       Green Onion           129.0      1  bunch              129.0   \n",
            "2    Bi-Colour Corn            99.0      1     ea               99.0   \n",
            "3     Romaine Heart           200.0      3   pack              600.0   \n",
            "4   Red Peppers               990.0      1     ea              238.0   \n",
            "\n",
            "   Previous Price KSH  \n",
            "0               199.0  \n",
            "1               129.0  \n",
            "2                99.0  \n",
            "3               600.0  \n",
            "4               238.0  \n"
          ]
        }
      ]
    },
    {
      "cell_type": "code",
      "source": [
        "# Display unique values in the 'Units' column\n",
        "unique_units = data['Units'].unique()\n",
        "\n",
        "print(\"Unique Units:\")\n",
        "print(unique_units)"
      ],
      "metadata": {
        "id": "4CRoQPzC2uwh",
        "colab": {
          "base_uri": "https://localhost:8080/"
        },
        "outputId": "f30c9084-3f2b-46a7-d436-6df78ae1d9f3"
      },
      "execution_count": null,
      "outputs": [
        {
          "output_type": "stream",
          "name": "stdout",
          "text": [
            "Unique Units:\n",
            "['ea' 'bunch' 'pack' 'lb' 'g' 'kg' 'ml' 'l' 'bag' 'eggs' 'slices' 'pieces']\n"
          ]
        }
      ]
    },
    {
      "cell_type": "code",
      "source": [
        "# Display counts of each unit in the 'Units' column\n",
        "unit_counts = data['Units'].value_counts()\n",
        "\n",
        "print(\"Unit Counts:\")\n",
        "print(unit_counts)"
      ],
      "metadata": {
        "id": "0PB8ebnB3aH2",
        "colab": {
          "base_uri": "https://localhost:8080/"
        },
        "outputId": "6a0bbb9b-e5aa-4f4f-93ca-3aacafbd21d5"
      },
      "execution_count": null,
      "outputs": [
        {
          "output_type": "stream",
          "name": "stdout",
          "text": [
            "Unit Counts:\n",
            "g         10792\n",
            "ml         3132\n",
            "ea         1352\n",
            "kg         1002\n",
            "l           876\n",
            "lb           44\n",
            "eggs         21\n",
            "bunch        20\n",
            "pack         16\n",
            "slices        2\n",
            "bag           1\n",
            "pieces        1\n",
            "Name: Units, dtype: int64\n"
          ]
        }
      ]
    },
    {
      "cell_type": "code",
      "source": [
        "# Assuming 'Amount' and 'Units' are both strings\n",
        "data['Quantity'] = data['Amount'] + ' ' + data['Units']\n"
      ],
      "metadata": {
        "id": "kwrvtSz53af8"
      },
      "execution_count": null,
      "outputs": []
    },
    {
      "cell_type": "markdown",
      "source": [
        "Making sure that the quantity part of the data set is set to realistic measures"
      ],
      "metadata": {
        "id": "IbwvgfRM40ZN"
      }
    },
    {
      "cell_type": "code",
      "source": [
        "data['Quantity'].head()"
      ],
      "metadata": {
        "id": "loTdp3XQ5qMM",
        "colab": {
          "base_uri": "https://localhost:8080/"
        },
        "outputId": "9c3c3d46-cac1-442f-bf84-7a2b098448c5"
      },
      "execution_count": null,
      "outputs": [
        {
          "output_type": "execute_result",
          "data": {
            "text/plain": [
              "0       1 ea\n",
              "1    1 bunch\n",
              "2       1 ea\n",
              "3     3 pack\n",
              "4       1 ea\n",
              "Name: Quantity, dtype: object"
            ]
          },
          "metadata": {},
          "execution_count": 78
        }
      ]
    },
    {
      "cell_type": "code",
      "source": [
        "data.head()"
      ],
      "metadata": {
        "id": "OdKohwrF5ub8",
        "colab": {
          "base_uri": "https://localhost:8080/",
          "height": 206
        },
        "outputId": "fee1ba3c-5e30-4795-afcd-f080143cbcf9"
      },
      "execution_count": null,
      "outputs": [
        {
          "output_type": "execute_result",
          "data": {
            "text/plain": [
              "               Name  Price Per Each Amount  Units  Current Price KSH  \\\n",
              "0  English Cucumber           199.0      1     ea              199.0   \n",
              "1       Green Onion           129.0      1  bunch              129.0   \n",
              "2    Bi-Colour Corn            99.0      1     ea               99.0   \n",
              "3     Romaine Heart           200.0      3   pack              600.0   \n",
              "4   Red Peppers               990.0      1     ea              238.0   \n",
              "\n",
              "   Previous Price KSH Quantity  \n",
              "0               199.0     1 ea  \n",
              "1               129.0  1 bunch  \n",
              "2                99.0     1 ea  \n",
              "3               600.0   3 pack  \n",
              "4               238.0     1 ea  "
            ],
            "text/html": [
              "\n",
              "  <div id=\"df-a525e84f-236d-4709-be92-7f589adb4f11\" class=\"colab-df-container\">\n",
              "    <div>\n",
              "<style scoped>\n",
              "    .dataframe tbody tr th:only-of-type {\n",
              "        vertical-align: middle;\n",
              "    }\n",
              "\n",
              "    .dataframe tbody tr th {\n",
              "        vertical-align: top;\n",
              "    }\n",
              "\n",
              "    .dataframe thead th {\n",
              "        text-align: right;\n",
              "    }\n",
              "</style>\n",
              "<table border=\"1\" class=\"dataframe\">\n",
              "  <thead>\n",
              "    <tr style=\"text-align: right;\">\n",
              "      <th></th>\n",
              "      <th>Name</th>\n",
              "      <th>Price Per Each</th>\n",
              "      <th>Amount</th>\n",
              "      <th>Units</th>\n",
              "      <th>Current Price KSH</th>\n",
              "      <th>Previous Price KSH</th>\n",
              "      <th>Quantity</th>\n",
              "    </tr>\n",
              "  </thead>\n",
              "  <tbody>\n",
              "    <tr>\n",
              "      <th>0</th>\n",
              "      <td>English Cucumber</td>\n",
              "      <td>199.0</td>\n",
              "      <td>1</td>\n",
              "      <td>ea</td>\n",
              "      <td>199.0</td>\n",
              "      <td>199.0</td>\n",
              "      <td>1 ea</td>\n",
              "    </tr>\n",
              "    <tr>\n",
              "      <th>1</th>\n",
              "      <td>Green Onion</td>\n",
              "      <td>129.0</td>\n",
              "      <td>1</td>\n",
              "      <td>bunch</td>\n",
              "      <td>129.0</td>\n",
              "      <td>129.0</td>\n",
              "      <td>1 bunch</td>\n",
              "    </tr>\n",
              "    <tr>\n",
              "      <th>2</th>\n",
              "      <td>Bi-Colour Corn</td>\n",
              "      <td>99.0</td>\n",
              "      <td>1</td>\n",
              "      <td>ea</td>\n",
              "      <td>99.0</td>\n",
              "      <td>99.0</td>\n",
              "      <td>1 ea</td>\n",
              "    </tr>\n",
              "    <tr>\n",
              "      <th>3</th>\n",
              "      <td>Romaine Heart</td>\n",
              "      <td>200.0</td>\n",
              "      <td>3</td>\n",
              "      <td>pack</td>\n",
              "      <td>600.0</td>\n",
              "      <td>600.0</td>\n",
              "      <td>3 pack</td>\n",
              "    </tr>\n",
              "    <tr>\n",
              "      <th>4</th>\n",
              "      <td>Red Peppers</td>\n",
              "      <td>990.0</td>\n",
              "      <td>1</td>\n",
              "      <td>ea</td>\n",
              "      <td>238.0</td>\n",
              "      <td>238.0</td>\n",
              "      <td>1 ea</td>\n",
              "    </tr>\n",
              "  </tbody>\n",
              "</table>\n",
              "</div>\n",
              "    <div class=\"colab-df-buttons\">\n",
              "\n",
              "  <div class=\"colab-df-container\">\n",
              "    <button class=\"colab-df-convert\" onclick=\"convertToInteractive('df-a525e84f-236d-4709-be92-7f589adb4f11')\"\n",
              "            title=\"Convert this dataframe to an interactive table.\"\n",
              "            style=\"display:none;\">\n",
              "\n",
              "  <svg xmlns=\"http://www.w3.org/2000/svg\" height=\"24px\" viewBox=\"0 -960 960 960\">\n",
              "    <path d=\"M120-120v-720h720v720H120Zm60-500h600v-160H180v160Zm220 220h160v-160H400v160Zm0 220h160v-160H400v160ZM180-400h160v-160H180v160Zm440 0h160v-160H620v160ZM180-180h160v-160H180v160Zm440 0h160v-160H620v160Z\"/>\n",
              "  </svg>\n",
              "    </button>\n",
              "\n",
              "  <style>\n",
              "    .colab-df-container {\n",
              "      display:flex;\n",
              "      gap: 12px;\n",
              "    }\n",
              "\n",
              "    .colab-df-convert {\n",
              "      background-color: #E8F0FE;\n",
              "      border: none;\n",
              "      border-radius: 50%;\n",
              "      cursor: pointer;\n",
              "      display: none;\n",
              "      fill: #1967D2;\n",
              "      height: 32px;\n",
              "      padding: 0 0 0 0;\n",
              "      width: 32px;\n",
              "    }\n",
              "\n",
              "    .colab-df-convert:hover {\n",
              "      background-color: #E2EBFA;\n",
              "      box-shadow: 0px 1px 2px rgba(60, 64, 67, 0.3), 0px 1px 3px 1px rgba(60, 64, 67, 0.15);\n",
              "      fill: #174EA6;\n",
              "    }\n",
              "\n",
              "    .colab-df-buttons div {\n",
              "      margin-bottom: 4px;\n",
              "    }\n",
              "\n",
              "    [theme=dark] .colab-df-convert {\n",
              "      background-color: #3B4455;\n",
              "      fill: #D2E3FC;\n",
              "    }\n",
              "\n",
              "    [theme=dark] .colab-df-convert:hover {\n",
              "      background-color: #434B5C;\n",
              "      box-shadow: 0px 1px 3px 1px rgba(0, 0, 0, 0.15);\n",
              "      filter: drop-shadow(0px 1px 2px rgba(0, 0, 0, 0.3));\n",
              "      fill: #FFFFFF;\n",
              "    }\n",
              "  </style>\n",
              "\n",
              "    <script>\n",
              "      const buttonEl =\n",
              "        document.querySelector('#df-a525e84f-236d-4709-be92-7f589adb4f11 button.colab-df-convert');\n",
              "      buttonEl.style.display =\n",
              "        google.colab.kernel.accessAllowed ? 'block' : 'none';\n",
              "\n",
              "      async function convertToInteractive(key) {\n",
              "        const element = document.querySelector('#df-a525e84f-236d-4709-be92-7f589adb4f11');\n",
              "        const dataTable =\n",
              "          await google.colab.kernel.invokeFunction('convertToInteractive',\n",
              "                                                    [key], {});\n",
              "        if (!dataTable) return;\n",
              "\n",
              "        const docLinkHtml = 'Like what you see? Visit the ' +\n",
              "          '<a target=\"_blank\" href=https://colab.research.google.com/notebooks/data_table.ipynb>data table notebook</a>'\n",
              "          + ' to learn more about interactive tables.';\n",
              "        element.innerHTML = '';\n",
              "        dataTable['output_type'] = 'display_data';\n",
              "        await google.colab.output.renderOutput(dataTable, element);\n",
              "        const docLink = document.createElement('div');\n",
              "        docLink.innerHTML = docLinkHtml;\n",
              "        element.appendChild(docLink);\n",
              "      }\n",
              "    </script>\n",
              "  </div>\n",
              "\n",
              "\n",
              "<div id=\"df-ff4f006b-5c0d-4179-9f17-cab9459f359e\">\n",
              "  <button class=\"colab-df-quickchart\" onclick=\"quickchart('df-ff4f006b-5c0d-4179-9f17-cab9459f359e')\"\n",
              "            title=\"Suggest charts\"\n",
              "            style=\"display:none;\">\n",
              "\n",
              "<svg xmlns=\"http://www.w3.org/2000/svg\" height=\"24px\"viewBox=\"0 0 24 24\"\n",
              "     width=\"24px\">\n",
              "    <g>\n",
              "        <path d=\"M19 3H5c-1.1 0-2 .9-2 2v14c0 1.1.9 2 2 2h14c1.1 0 2-.9 2-2V5c0-1.1-.9-2-2-2zM9 17H7v-7h2v7zm4 0h-2V7h2v10zm4 0h-2v-4h2v4z\"/>\n",
              "    </g>\n",
              "</svg>\n",
              "  </button>\n",
              "\n",
              "<style>\n",
              "  .colab-df-quickchart {\n",
              "      --bg-color: #E8F0FE;\n",
              "      --fill-color: #1967D2;\n",
              "      --hover-bg-color: #E2EBFA;\n",
              "      --hover-fill-color: #174EA6;\n",
              "      --disabled-fill-color: #AAA;\n",
              "      --disabled-bg-color: #DDD;\n",
              "  }\n",
              "\n",
              "  [theme=dark] .colab-df-quickchart {\n",
              "      --bg-color: #3B4455;\n",
              "      --fill-color: #D2E3FC;\n",
              "      --hover-bg-color: #434B5C;\n",
              "      --hover-fill-color: #FFFFFF;\n",
              "      --disabled-bg-color: #3B4455;\n",
              "      --disabled-fill-color: #666;\n",
              "  }\n",
              "\n",
              "  .colab-df-quickchart {\n",
              "    background-color: var(--bg-color);\n",
              "    border: none;\n",
              "    border-radius: 50%;\n",
              "    cursor: pointer;\n",
              "    display: none;\n",
              "    fill: var(--fill-color);\n",
              "    height: 32px;\n",
              "    padding: 0;\n",
              "    width: 32px;\n",
              "  }\n",
              "\n",
              "  .colab-df-quickchart:hover {\n",
              "    background-color: var(--hover-bg-color);\n",
              "    box-shadow: 0 1px 2px rgba(60, 64, 67, 0.3), 0 1px 3px 1px rgba(60, 64, 67, 0.15);\n",
              "    fill: var(--button-hover-fill-color);\n",
              "  }\n",
              "\n",
              "  .colab-df-quickchart-complete:disabled,\n",
              "  .colab-df-quickchart-complete:disabled:hover {\n",
              "    background-color: var(--disabled-bg-color);\n",
              "    fill: var(--disabled-fill-color);\n",
              "    box-shadow: none;\n",
              "  }\n",
              "\n",
              "  .colab-df-spinner {\n",
              "    border: 2px solid var(--fill-color);\n",
              "    border-color: transparent;\n",
              "    border-bottom-color: var(--fill-color);\n",
              "    animation:\n",
              "      spin 1s steps(1) infinite;\n",
              "  }\n",
              "\n",
              "  @keyframes spin {\n",
              "    0% {\n",
              "      border-color: transparent;\n",
              "      border-bottom-color: var(--fill-color);\n",
              "      border-left-color: var(--fill-color);\n",
              "    }\n",
              "    20% {\n",
              "      border-color: transparent;\n",
              "      border-left-color: var(--fill-color);\n",
              "      border-top-color: var(--fill-color);\n",
              "    }\n",
              "    30% {\n",
              "      border-color: transparent;\n",
              "      border-left-color: var(--fill-color);\n",
              "      border-top-color: var(--fill-color);\n",
              "      border-right-color: var(--fill-color);\n",
              "    }\n",
              "    40% {\n",
              "      border-color: transparent;\n",
              "      border-right-color: var(--fill-color);\n",
              "      border-top-color: var(--fill-color);\n",
              "    }\n",
              "    60% {\n",
              "      border-color: transparent;\n",
              "      border-right-color: var(--fill-color);\n",
              "    }\n",
              "    80% {\n",
              "      border-color: transparent;\n",
              "      border-right-color: var(--fill-color);\n",
              "      border-bottom-color: var(--fill-color);\n",
              "    }\n",
              "    90% {\n",
              "      border-color: transparent;\n",
              "      border-bottom-color: var(--fill-color);\n",
              "    }\n",
              "  }\n",
              "</style>\n",
              "\n",
              "  <script>\n",
              "    async function quickchart(key) {\n",
              "      const quickchartButtonEl =\n",
              "        document.querySelector('#' + key + ' button');\n",
              "      quickchartButtonEl.disabled = true;  // To prevent multiple clicks.\n",
              "      quickchartButtonEl.classList.add('colab-df-spinner');\n",
              "      try {\n",
              "        const charts = await google.colab.kernel.invokeFunction(\n",
              "            'suggestCharts', [key], {});\n",
              "      } catch (error) {\n",
              "        console.error('Error during call to suggestCharts:', error);\n",
              "      }\n",
              "      quickchartButtonEl.classList.remove('colab-df-spinner');\n",
              "      quickchartButtonEl.classList.add('colab-df-quickchart-complete');\n",
              "    }\n",
              "    (() => {\n",
              "      let quickchartButtonEl =\n",
              "        document.querySelector('#df-ff4f006b-5c0d-4179-9f17-cab9459f359e button');\n",
              "      quickchartButtonEl.style.display =\n",
              "        google.colab.kernel.accessAllowed ? 'block' : 'none';\n",
              "    })();\n",
              "  </script>\n",
              "</div>\n",
              "    </div>\n",
              "  </div>\n"
            ]
          },
          "metadata": {},
          "execution_count": 79
        }
      ]
    },
    {
      "source": [
        "# from matplotlib import pyplot as plt\n",
        "# _df_56.plot(kind='scatter', x='Current Price KSH', y='Previous Price KSH', s=32, alpha=.8)\n",
        "# plt.gca().spines[['top', 'right',]].set_visible(False)"
      ],
      "cell_type": "code",
      "metadata": {
        "id": "mqQ7ipQsPgHA"
      },
      "execution_count": null,
      "outputs": []
    },
    {
      "source": [
        "# from matplotlib import pyplot as plt\n",
        "# import seaborn as sns\n",
        "# _df_51.groupby('Name').size().plot(kind='barh', color=sns.palettes.mpl_palette('Dark2'))\n",
        "# plt.gca().spines[['top', 'right',]].set_visible(False)"
      ],
      "cell_type": "code",
      "metadata": {
        "id": "RQmMFLogPfFi"
      },
      "execution_count": null,
      "outputs": []
    },
    {
      "source": [
        "# from matplotlib import pyplot as plt\n",
        "# import seaborn as sns\n",
        "# _df_54.groupby('Quantity').size().plot(kind='barh', color=sns.palettes.mpl_palette('Dark2'))\n",
        "# plt.gca().spines[['top', 'right',]].set_visible(False)"
      ],
      "cell_type": "code",
      "metadata": {
        "id": "-cY7awR2PbBZ"
      },
      "execution_count": null,
      "outputs": []
    },
    {
      "cell_type": "code",
      "source": [
        "columns_to_drop = ['Amount','Units']\n",
        "\n",
        "\n",
        "# Drop the specified columns\n",
        "data = data.drop(columns=columns_to_drop)\n",
        "\n",
        "\n",
        "# Print the first few rows of the modified DataFrame\n",
        "print(data.head())"
      ],
      "metadata": {
        "id": "3LbpaB6W55UM",
        "colab": {
          "base_uri": "https://localhost:8080/"
        },
        "outputId": "262f5c7d-12f4-4509-cb5c-698d0354c381"
      },
      "execution_count": null,
      "outputs": [
        {
          "output_type": "stream",
          "name": "stdout",
          "text": [
            "               Name  Price Per Each  Current Price KSH  Previous Price KSH  \\\n",
            "0  English Cucumber           199.0              199.0               199.0   \n",
            "1       Green Onion           129.0              129.0               129.0   \n",
            "2    Bi-Colour Corn            99.0               99.0                99.0   \n",
            "3     Romaine Heart           200.0              600.0               600.0   \n",
            "4   Red Peppers               990.0              238.0               238.0   \n",
            "\n",
            "  Quantity  \n",
            "0     1 ea  \n",
            "1  1 bunch  \n",
            "2     1 ea  \n",
            "3   3 pack  \n",
            "4     1 ea  \n"
          ]
        }
      ]
    },
    {
      "cell_type": "code",
      "source": [
        "# egg_types = data[data['Name'].str.lower().str.contains('egg')]['Name'].unique()\n",
        "# print(egg_types)\n"
      ],
      "metadata": {
        "id": "HUXU540y_-Ha"
      },
      "execution_count": null,
      "outputs": []
    },
    {
      "cell_type": "markdown",
      "source": [
        "### BUILDING THE MODEL"
      ],
      "metadata": {
        "id": "4Uy7gnjh9Wl6"
      }
    },
    {
      "cell_type": "code",
      "source": [
        "# Assuming 'Quantity' is appropriately encoded or formatted\n",
        "X = data[['Name', 'Price Per Each', 'Quantity']]\n",
        "y = data['Current Price KSH']"
      ],
      "metadata": {
        "id": "5-Sii5Mp6mKD"
      },
      "execution_count": null,
      "outputs": []
    },
    {
      "cell_type": "code",
      "source": [
        "import pandas as pd\n",
        "from sklearn.model_selection import train_test_split\n",
        "from sklearn.linear_model import LinearRegression\n",
        "from sklearn.metrics import mean_squared_error\n",
        "from sklearn.impute import SimpleImputer\n",
        "from sklearn.preprocessing import LabelEncoder\n",
        "import re\n",
        "\n",
        "# Assuming you have already imported and preprocessed your data\n",
        "# X should include 'Name', 'Price Per Each', and 'Quantity'\n",
        "X = data[['Name', 'Price Per Each', 'Quantity']]\n",
        "y = data['Current Price KSH']\n",
        "\n",
        "# Encode categorical variables\n",
        "le_name = LabelEncoder()\n",
        "X['Name'] = le_name.fit_transform(X['Name'])\n",
        "\n",
        "# Convert 'Quantity' to numeric, handling cases with units\n",
        "def extract_numeric(value):\n",
        "    try:\n",
        "        return float(re.search(r'\\d+\\.*\\d*', value).group())\n",
        "    except (AttributeError, ValueError):\n",
        "        return 1.0  # Set to 1 for cases where no numeric part is found\n",
        "\n",
        "X['Quantity'] = X['Quantity'].apply(extract_numeric)\n",
        "\n",
        "# Handle missing values using imputation\n",
        "imputer = SimpleImputer(strategy='mean')\n",
        "X_imputed = pd.DataFrame(imputer.fit_transform(X), columns=X.columns)\n",
        "\n",
        "# Split data into training and testing sets\n",
        "X_train, X_test, y_train, y_test = train_test_split(X_imputed, y, test_size=0.2, random_state=42)\n",
        "\n",
        "# Train a linear regression model\n",
        "model = LinearRegression()\n",
        "model.fit(X_train, y_train)\n",
        "\n",
        "# Make predictions on the test set\n",
        "y_pred = model.predict(X_test)\n",
        "\n",
        "# Evaluate the model (you might want to use more advanced evaluation metrics)\n",
        "mse = mean_squared_error(y_test, y_pred)\n",
        "print(f'Mean Squared Error: {mse}')\n",
        "\n"
      ],
      "metadata": {
        "id": "gz5o4DqH8yoN",
        "colab": {
          "base_uri": "https://localhost:8080/"
        },
        "outputId": "0e03737f-d39d-49dc-8fab-f4e92c57ef46"
      },
      "execution_count": null,
      "outputs": [
        {
          "output_type": "stream",
          "name": "stdout",
          "text": [
            "Mean Squared Error: 848937.7466707453\n"
          ]
        },
        {
          "output_type": "stream",
          "name": "stderr",
          "text": [
            "<ipython-input-86-66bb38dd3af7>:16: SettingWithCopyWarning: \n",
            "A value is trying to be set on a copy of a slice from a DataFrame.\n",
            "Try using .loc[row_indexer,col_indexer] = value instead\n",
            "\n",
            "See the caveats in the documentation: https://pandas.pydata.org/pandas-docs/stable/user_guide/indexing.html#returning-a-view-versus-a-copy\n",
            "  X['Name'] = le_name.fit_transform(X['Name'])\n",
            "<ipython-input-86-66bb38dd3af7>:25: SettingWithCopyWarning: \n",
            "A value is trying to be set on a copy of a slice from a DataFrame.\n",
            "Try using .loc[row_indexer,col_indexer] = value instead\n",
            "\n",
            "See the caveats in the documentation: https://pandas.pydata.org/pandas-docs/stable/user_guide/indexing.html#returning-a-view-versus-a-copy\n",
            "  X['Quantity'] = X['Quantity'].apply(extract_numeric)\n"
          ]
        }
      ]
    },
    {
      "cell_type": "code",
      "source": [
        "# Now, you can use the trained model to predict prices based on user input\n",
        "user_name = input(\"Enter the product name: \")\n",
        "user_quantity_str = input(\"Enter the quantity: \")\n",
        "\n",
        "# Preprocess user input for quantity\n",
        "user_quantity = extract_numeric(user_quantity_str)\n",
        "\n",
        "# Preprocess user input for product name\n",
        "user_name_encoded = le_name.transform([user_name])\n",
        "\n",
        "# Get the 'Price Per Each' for the given product name\n",
        "product_price_per_each = X[X['Name'] == user_name_encoded[0]]['Price Per Each'].iloc[0]\n",
        "\n",
        "# Calculate the total price\n",
        "total_price = product_price_per_each * user_quantity\n",
        "print(f'The estimated total price for {user_quantity_str} of {user_name} is {total_price:.2f} KSH.')\n"
      ],
      "metadata": {
        "id": "PCcf2GJY_kvb",
        "colab": {
          "base_uri": "https://localhost:8080/"
        },
        "outputId": "49a005db-0638-4fc0-a91e-1add3c764e3f"
      },
      "execution_count": null,
      "outputs": [
        {
          "output_type": "stream",
          "name": "stdout",
          "text": [
            "Enter the product name: Mango\n",
            "Enter the quantity: 1\n",
            "The estimated total price for 1 of Mango is 169.00 KSH.\n"
          ]
        }
      ]
    },
    {
      "cell_type": "code",
      "source": [
        "import joblib\n",
        "\n",
        "# Assuming le_name is your LabelEncoder instance\n",
        "# You can replace 'path_to_save/label_encoder_name.joblib' with the desired file path\n",
        "joblib.dump(le_name, 'label_encoder_name.joblib')\n"
      ],
      "metadata": {
        "id": "m5584OwhfzBb",
        "colab": {
          "base_uri": "https://localhost:8080/"
        },
        "outputId": "7cd2e88e-3b00-4593-a9c2-1fa82ba92d0d"
      },
      "execution_count": null,
      "outputs": [
        {
          "output_type": "execute_result",
          "data": {
            "text/plain": [
              "['label_encoder_name.joblib']"
            ]
          },
          "metadata": {},
          "execution_count": 89
        }
      ]
    },
    {
      "cell_type": "code",
      "source": [
        "import joblib\n",
        "\n",
        "# Save the trained model to a file\n",
        "model_filename = 'linear_regression_model.joblib'\n",
        "joblib.dump(model, model_filename)\n",
        "\n",
        "print(f'The trained model has been saved to {model_filename}.')\n"
      ],
      "metadata": {
        "id": "mG8V_Pc38zPD"
      },
      "execution_count": null,
      "outputs": []
    },
    {
      "cell_type": "code",
      "source": [
        "import h5py\n",
        "from sklearn.linear_model import LinearRegression\n",
        "\n",
        "# Example: Train a linear regression model\n",
        "model = LinearRegression()\n",
        "# Assume you have already trained the model on your data\n",
        "\n",
        "# Save the trained model to an HDF5 file using joblib and pickle\n",
        "model_filename_hdf5 = 'linear_regression_model.h5'\n",
        "\n",
        "# Save the model using joblib\n",
        "joblib.dump(model, model_filename_hdf5)\n",
        "\n",
        "# Additional information (if needed) can be saved using pickle\n",
        "with open('model_info.pkl', 'wb') as info_file:\n",
        "    pickle.dump({'key': 'value'}, info_file)\n",
        "\n",
        "print(f'The trained model has been saved to {model_filename_hdf5}.')\n"
      ],
      "metadata": {
        "id": "2d0pPYNsP9T9"
      },
      "execution_count": null,
      "outputs": []
    },
    {
      "cell_type": "code",
      "source": [
        "print(data.columns)\n"
      ],
      "metadata": {
        "id": "e8oGYBHgHtgD"
      },
      "execution_count": null,
      "outputs": []
    }
  ]
}